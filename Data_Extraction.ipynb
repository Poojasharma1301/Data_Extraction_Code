{
  "nbformat": 4,
  "nbformat_minor": 0,
  "metadata": {
    "colab": {
      "name": "Data_Extraction.ipynb",
      "provenance": [],
      "collapsed_sections": []
    },
    "kernelspec": {
      "name": "python3",
      "display_name": "Python 3"
    },
    "language_info": {
      "name": "python"
    }
  },
  "cells": [
    {
      "cell_type": "code",
      "metadata": {
        "id": "tOSWPPOcbDEK"
      },
      "source": [
        "#installing selenium package\n",
        "#! pip install selenium"
      ],
      "execution_count": null,
      "outputs": []
    },
    {
      "cell_type": "code",
      "metadata": {
        "id": "vSxK4JGLbMPF"
      },
      "source": [
        "#Need to update terminal first to install properly\n",
        "#!apt-get update"
      ],
      "execution_count": null,
      "outputs": []
    },
    {
      "cell_type": "code",
      "metadata": {
        "id": "2IsMyTcabWRW"
      },
      "source": [
        "#For chrome broswer webdriver intallation, can use firefox and edge also\n",
        "#This will work better in chrome browser\n",
        "#!apt install chromium-chromedriver\n",
        "#!cp /usr/lib/chromium-browser/chromedriver /usr/bin\n",
        "#import sys\n",
        "#sys.path.insert(0,'/usr/lib/chromium-browser/chromedriver')\n",
        "#from selenium import webdriver\n",
        "#chrome_options = webdriver.ChromeOptions()\n",
        "#chrome_options.add_argument('--headless')\n",
        "#chrome_options.add_argument('--no-sandbox')\n",
        "#chrome_options.add_argument('--disable-dev-shm-usage')\n",
        "#wd = webdriver.Chrome('chromedriver',chrome_options=chrome_options)"
      ],
      "execution_count": null,
      "outputs": []
    },
    {
      "cell_type": "code",
      "metadata": {
        "id": "tB-nPuh3bgFa"
      },
      "source": [
        "import requests\n",
        "import urllib.request\n",
        "import time\n",
        "from bs4 import BeautifulSoup\n",
        "import pandas as pd"
      ],
      "execution_count": null,
      "outputs": []
    },
    {
      "cell_type": "code",
      "metadata": {
        "id": "ult9JYc5bt-e"
      },
      "source": [
        "#NGO darpan page set to 50 rows per page\n",
        "url=\"https://ngodarpan.gov.in/index.php/home/statewise_ngo/6258/24/97?\"\n",
        "response=requests.get(url)\n",
        "soup=BeautifulSoup(response.text,\"html.parser\")"
      ],
      "execution_count": null,
      "outputs": []
    },
    {
      "cell_type": "code",
      "metadata": {
        "id": "FD-AoLvjb0zS"
      },
      "source": [
        "#For selenium \n",
        "wd.get(url)"
      ],
      "execution_count": null,
      "outputs": []
    },
    {
      "cell_type": "code",
      "metadata": {
        "id": "KrPmMEdFb7zU"
      },
      "source": [
        "table = soup.find_all('table')\n",
        "df = pd.read_html(str(table))[0]"
      ],
      "execution_count": null,
      "outputs": []
    },
    {
      "cell_type": "code",
      "metadata": {
        "colab": {
          "base_uri": "https://localhost:8080/"
        },
        "id": "PtzM-vNZcA2j",
        "outputId": "51a85cc0-eea1-4b9f-f564-08af9adcb592"
      },
      "source": [
        "df.shape"
      ],
      "execution_count": null,
      "outputs": [
        {
          "output_type": "execute_result",
          "data": {
            "text/plain": [
              "(10, 5)"
            ]
          },
          "metadata": {},
          "execution_count": 711
        }
      ]
    },
    {
      "cell_type": "code",
      "metadata": {
        "colab": {
          "base_uri": "https://localhost:8080/",
          "height": 310
        },
        "id": "c6LA1LQ4cC4L",
        "outputId": "de88e8f1-753b-43b1-c55d-7c171727947a"
      },
      "source": [
        "df.head()"
      ],
      "execution_count": null,
      "outputs": [
        {
          "output_type": "execute_result",
          "data": {
            "text/html": [
              "<div>\n",
              "<style scoped>\n",
              "    .dataframe tbody tr th:only-of-type {\n",
              "        vertical-align: middle;\n",
              "    }\n",
              "\n",
              "    .dataframe tbody tr th {\n",
              "        vertical-align: top;\n",
              "    }\n",
              "\n",
              "    .dataframe thead th {\n",
              "        text-align: right;\n",
              "    }\n",
              "</style>\n",
              "<table border=\"1\" class=\"dataframe\">\n",
              "  <thead>\n",
              "    <tr style=\"text-align: right;\">\n",
              "      <th></th>\n",
              "      <th>Sr No.</th>\n",
              "      <th>Name of VO/NGO</th>\n",
              "      <th>Registration No.,City &amp; State</th>\n",
              "      <th>Address</th>\n",
              "      <th>Sectors working in</th>\n",
              "    </tr>\n",
              "  </thead>\n",
              "  <tbody>\n",
              "    <tr>\n",
              "      <th>0</th>\n",
              "      <td>1</td>\n",
              "      <td>Dharampur Utthan Vahini</td>\n",
              "      <td>F/155/Navsari, Navsari (GUJARAT)</td>\n",
              "      <td>DHRUVA Vrindavan Campus, Lachhakadi village, P...</td>\n",
              "      <td>Agriculture,Drinking Water,Environment &amp; Fores...</td>\n",
              "    </tr>\n",
              "    <tr>\n",
              "      <th>1</th>\n",
              "      <td>2</td>\n",
              "      <td>Dharati Foundation</td>\n",
              "      <td>Gujarat/2028/Sabarkantha, HIMMATNAGAR (GUJARAT)</td>\n",
              "      <td>8 Tara Duplex Chhaparia Char Rasta B H Jamin V...</td>\n",
              "      <td>Art &amp; Culture,Health &amp; Family Welfare,Labour &amp;...</td>\n",
              "    </tr>\n",
              "    <tr>\n",
              "      <th>2</th>\n",
              "      <td>3</td>\n",
              "      <td>DHARM RATNA PANDIT SHRI BABUBHAI CHUNILAL MEHT...</td>\n",
              "      <td>E/1409/SABARKANTHA, AHMEDABAD (GUJARAT)</td>\n",
              "      <td>35, GIRIVAR BUNGALOWS, NEAR RAMWADI BUS STOP, ...</td>\n",
              "      <td>Data Not Found</td>\n",
              "    </tr>\n",
              "    <tr>\n",
              "      <th>3</th>\n",
              "      <td>4</td>\n",
              "      <td>DHARMA FOUNDATION</td>\n",
              "      <td>F/2832/GANDHINAGAR, GANDHINAGAR (GUJARAT)</td>\n",
              "      <td>PLOT NO.-5/1, NEAR MAHATMA MANDIR, SECTOR-14, ...</td>\n",
              "      <td>Agriculture,Children,Dalit Upliftment,Differen...</td>\n",
              "    </tr>\n",
              "    <tr>\n",
              "      <th>4</th>\n",
              "      <td>5</td>\n",
              "      <td>DHARMA VIJAY TRUST</td>\n",
              "      <td>E-643 Kutch, Raidhanpar Bhuj (GUJARAT)</td>\n",
              "      <td>Co Kutchh Vikas Trust Post Nagor Village Raidh...</td>\n",
              "      <td>Data Not Found</td>\n",
              "    </tr>\n",
              "  </tbody>\n",
              "</table>\n",
              "</div>"
            ],
            "text/plain": [
              "   Sr No.  ...                                 Sectors working in\n",
              "0       1  ...  Agriculture,Drinking Water,Environment & Fores...\n",
              "1       2  ...  Art & Culture,Health & Family Welfare,Labour &...\n",
              "2       3  ...                                     Data Not Found\n",
              "3       4  ...  Agriculture,Children,Dalit Upliftment,Differen...\n",
              "4       5  ...                                     Data Not Found\n",
              "\n",
              "[5 rows x 5 columns]"
            ]
          },
          "metadata": {},
          "execution_count": 712
        }
      ]
    },
    {
      "cell_type": "code",
      "metadata": {
        "id": "lXhbbD2sceKc"
      },
      "source": [
        "#Split column into 'Registration No.' and 'City & State'\n",
        "df1=df['Registration No.,City & State'].str.split(',', expand=True)"
      ],
      "execution_count": null,
      "outputs": []
    },
    {
      "cell_type": "code",
      "metadata": {
        "id": "3PtpD3w9en_8"
      },
      "source": [
        "#Split column into City and State\n",
        "df2=df1[1].str.split('(', expand=True)"
      ],
      "execution_count": null,
      "outputs": []
    },
    {
      "cell_type": "code",
      "metadata": {
        "id": "qtpXpKy8eqSn"
      },
      "source": [
        "#Delete closing bracket at the end from state\n",
        "df2[1] = df2[1].str[:-1]"
      ],
      "execution_count": null,
      "outputs": []
    },
    {
      "cell_type": "code",
      "metadata": {
        "id": "rdyliSuyesHd"
      },
      "source": [
        "#Change all records in city to uppercase\n",
        "df2[0] = df2[0].str.upper()"
      ],
      "execution_count": null,
      "outputs": []
    },
    {
      "cell_type": "code",
      "metadata": {
        "id": "dvMIhReFeuYX"
      },
      "source": [
        "#Updating columns\n",
        "df['Registration No.']=df1[0]\n",
        "df['City']=df2[0]\n",
        "df['State']=df2[1]"
      ],
      "execution_count": null,
      "outputs": []
    },
    {
      "cell_type": "code",
      "metadata": {
        "id": "cg9Ye42Jew7a"
      },
      "source": [
        "#Split registration no. to get registration year. Some haven't mentioned the year so need to check NGO darpan to fill those values.\n",
        "df3=df['Registration No.'].str.split('/|F|f|-',expand=True)"
      ],
      "execution_count": null,
      "outputs": []
    },
    {
      "cell_type": "code",
      "metadata": {
        "id": "IstLkVRGezUI"
      },
      "source": [
        "df['Year of Registration']=df3[1]"
      ],
      "execution_count": null,
      "outputs": []
    },
    {
      "cell_type": "code",
      "metadata": {
        "id": "MrgKErL8e24b"
      },
      "source": [
        "df.drop(columns='Registration No.,City & State',inplace=True)"
      ],
      "execution_count": null,
      "outputs": []
    },
    {
      "cell_type": "code",
      "metadata": {
        "colab": {
          "base_uri": "https://localhost:8080/",
          "height": 328
        },
        "id": "fwApy3UGfAMR",
        "outputId": "c4b1995c-ba7e-4de6-d8db-66e80f4599d8"
      },
      "source": [
        "df.head(5)"
      ],
      "execution_count": null,
      "outputs": [
        {
          "output_type": "execute_result",
          "data": {
            "text/html": [
              "<div>\n",
              "<style scoped>\n",
              "    .dataframe tbody tr th:only-of-type {\n",
              "        vertical-align: middle;\n",
              "    }\n",
              "\n",
              "    .dataframe tbody tr th {\n",
              "        vertical-align: top;\n",
              "    }\n",
              "\n",
              "    .dataframe thead th {\n",
              "        text-align: right;\n",
              "    }\n",
              "</style>\n",
              "<table border=\"1\" class=\"dataframe\">\n",
              "  <thead>\n",
              "    <tr style=\"text-align: right;\">\n",
              "      <th></th>\n",
              "      <th>Sr No.</th>\n",
              "      <th>Name of VO/NGO</th>\n",
              "      <th>Address</th>\n",
              "      <th>Sectors working in</th>\n",
              "      <th>Registration No.</th>\n",
              "      <th>City</th>\n",
              "      <th>State</th>\n",
              "      <th>Year of Registration</th>\n",
              "    </tr>\n",
              "  </thead>\n",
              "  <tbody>\n",
              "    <tr>\n",
              "      <th>0</th>\n",
              "      <td>1</td>\n",
              "      <td>Dharampur Utthan Vahini</td>\n",
              "      <td>DHRUVA Vrindavan Campus, Lachhakadi village, P...</td>\n",
              "      <td>Agriculture,Drinking Water,Environment &amp; Fores...</td>\n",
              "      <td>F/155/Navsari</td>\n",
              "      <td>NAVSARI</td>\n",
              "      <td>GUJARAT</td>\n",
              "      <td></td>\n",
              "    </tr>\n",
              "    <tr>\n",
              "      <th>1</th>\n",
              "      <td>2</td>\n",
              "      <td>Dharati Foundation</td>\n",
              "      <td>8 Tara Duplex Chhaparia Char Rasta B H Jamin V...</td>\n",
              "      <td>Art &amp; Culture,Health &amp; Family Welfare,Labour &amp;...</td>\n",
              "      <td>Gujarat/2028/Sabarkantha</td>\n",
              "      <td>HIMMATNAGAR</td>\n",
              "      <td>GUJARAT</td>\n",
              "      <td>2028</td>\n",
              "    </tr>\n",
              "    <tr>\n",
              "      <th>2</th>\n",
              "      <td>3</td>\n",
              "      <td>DHARM RATNA PANDIT SHRI BABUBHAI CHUNILAL MEHT...</td>\n",
              "      <td>35, GIRIVAR BUNGALOWS, NEAR RAMWADI BUS STOP, ...</td>\n",
              "      <td>Data Not Found</td>\n",
              "      <td>E/1409/SABARKANTHA</td>\n",
              "      <td>AHMEDABAD</td>\n",
              "      <td>GUJARAT</td>\n",
              "      <td>1409</td>\n",
              "    </tr>\n",
              "    <tr>\n",
              "      <th>3</th>\n",
              "      <td>4</td>\n",
              "      <td>DHARMA FOUNDATION</td>\n",
              "      <td>PLOT NO.-5/1, NEAR MAHATMA MANDIR, SECTOR-14, ...</td>\n",
              "      <td>Agriculture,Children,Dalit Upliftment,Differen...</td>\n",
              "      <td>F/2832/GANDHINAGAR</td>\n",
              "      <td>GANDHINAGAR</td>\n",
              "      <td>GUJARAT</td>\n",
              "      <td></td>\n",
              "    </tr>\n",
              "    <tr>\n",
              "      <th>4</th>\n",
              "      <td>5</td>\n",
              "      <td>DHARMA VIJAY TRUST</td>\n",
              "      <td>Co Kutchh Vikas Trust Post Nagor Village Raidh...</td>\n",
              "      <td>Data Not Found</td>\n",
              "      <td>E-643 Kutch</td>\n",
              "      <td>RAIDHANPAR BHUJ</td>\n",
              "      <td>GUJARAT</td>\n",
              "      <td>643 Kutch</td>\n",
              "    </tr>\n",
              "  </tbody>\n",
              "</table>\n",
              "</div>"
            ],
            "text/plain": [
              "   Sr No.  ... Year of Registration\n",
              "0       1  ...                     \n",
              "1       2  ...                 2028\n",
              "2       3  ...                 1409\n",
              "3       4  ...                     \n",
              "4       5  ...            643 Kutch\n",
              "\n",
              "[5 rows x 8 columns]"
            ]
          },
          "metadata": {},
          "execution_count": 721
        }
      ]
    },
    {
      "cell_type": "code",
      "metadata": {
        "id": "rZPN6hhTfCGk"
      },
      "source": [
        "df.to_excel(r'\\NGO_38.xlsx', index = False)"
      ],
      "execution_count": null,
      "outputs": []
    },
    {
      "cell_type": "code",
      "metadata": {
        "id": "k7UByCYkfYzn"
      },
      "source": [
        ""
      ],
      "execution_count": null,
      "outputs": []
    }
  ]
}